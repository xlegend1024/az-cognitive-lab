{
  "cells": [
    {
      "metadata": {
        "trusted": true
      },
      "cell_type": "code",
      "source": "import requests, json",
      "execution_count": null,
      "outputs": []
    },
    {
      "metadata": {},
      "cell_type": "markdown",
      "source": "### Update SearchName, apiKey and indexerName to yours\nYou can fine Search Name, api key from the portal\n\n![searchkey](https://github.com/jakazmie/AIDays/raw/master/DeveloperTrack/03-KnowledgeMining/images/search-key.png)"
    },
    {
      "metadata": {
        "trusted": true
      },
      "cell_type": "code",
      "source": "searchName=\"\"\nurl=\"https://\"+searchName+\".search.windows.net\"\napikey=\"\"\nindexerName=\"\"\napiversion=\"2017-11-11\"\n\nprint(url)",
      "execution_count": null,
      "outputs": []
    },
    {
      "metadata": {
        "trusted": true
      },
      "cell_type": "code",
      "source": "searchheaders={\n            'Content-Type': \"application/json; charset=UTF-8\",\n            'Api-Key': apikey\n        }",
      "execution_count": null,
      "outputs": []
    },
    {
      "metadata": {},
      "cell_type": "markdown",
      "source": "### Update search word to run query\n\nFor exmaple:\n* Microsoft\n* Linux\n* Satya Nadella\n"
    },
    {
      "metadata": {
        "trusted": true
      },
      "cell_type": "code",
      "source": "searchWord=\"\"",
      "execution_count": null,
      "outputs": []
    },
    {
      "metadata": {
        "trusted": true
      },
      "cell_type": "code",
      "source": "queryURL=url+\"/indexes/\"+indexerName+\"/docs?api-version=\"+apiversion+\"&search=\"+searchWord\nprint(queryURL)",
      "execution_count": null,
      "outputs": []
    },
    {
      "metadata": {
        "trusted": true
      },
      "cell_type": "code",
      "source": "resp = requests.get(url=queryURL,headers=searchheaders)\ndata=resp.json()",
      "execution_count": null,
      "outputs": []
    },
    {
      "metadata": {
        "trusted": true
      },
      "cell_type": "code",
      "source": "print(\"Search results are: \"+ str(len(data['value'])))",
      "execution_count": null,
      "outputs": []
    },
    {
      "metadata": {
        "trusted": true
      },
      "cell_type": "code",
      "source": "for x in data['value']:\n    print(\"Score: \"+str(x['@search.score']) + \", File Name:\"+ x['metadata_storage_name'])",
      "execution_count": null,
      "outputs": []
    },
    {
      "metadata": {
        "trusted": true
      },
      "cell_type": "code",
      "source": "for x in data['value']:\n    _celebrities =''\n    _imageCaption =''\n    _captions=''\n    _caption=''\n    _locations=''\n    _organizations=''\n    _people=''\n    \n    if (len(x['celebrities']) > 0 ):\n        _celebrities = x['celebrities'][0]\n    \n    if (len(x['imageCaption']) > 0 ):\n        _imageCaption = (x['imageCaption'][0])\n        _captions = json.loads(_imageCaption)\n        _caption=_captions['captions']\n        \n    if (len(x['locations']) > 0 ):\n        _locations = (x['locations'][0])\n        \n    if (len(x['organizations']) > 0 ):\n        _organizations = (x['organizations'][0])\n\n    if (len(x['people']) > 0 ):\n        _organizations = (x['people'][0])\n        \n    print(\"\")\n    print(\"Score: \"+ str(x['@search.score']) + \", File Name:\"+ x['metadata_storage_name'])\n    print(\"Celebrities: \"+str(_celebrities)) \n    print(\"Caption: \"+ str(_caption))\n    print(\"locations: \" + _locations)\n    print(\"organizations: \" + _organizations)\n    print(\"people: \" + _people)\n",
      "execution_count": null,
      "outputs": []
    },
    {
      "metadata": {},
      "cell_type": "markdown",
      "source": "Go back to github lab\n\n[05.CleanUp](https://github.com/jakazmie/AIDays/blob/master/DeveloperTrack/03-KnowledgeMining/05Cleanup.md)"
    },
    {
      "metadata": {
        "trusted": true
      },
      "cell_type": "markdown",
      "source": "# End of lab"
    }
  ],
  "metadata": {
    "kernelspec": {
      "name": "python36",
      "display_name": "Python 3.6",
      "language": "python"
    },
    "language_info": {
      "mimetype": "text/x-python",
      "nbconvert_exporter": "python",
      "name": "python",
      "pygments_lexer": "ipython3",
      "version": "3.6.6",
      "file_extension": ".py",
      "codemirror_mode": {
        "version": 3,
        "name": "ipython"
      }
    }
  },
  "nbformat": 4,
  "nbformat_minor": 2
}